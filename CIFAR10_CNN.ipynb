{
  "nbformat": 4,
  "nbformat_minor": 0,
  "metadata": {
    "colab": {
      "provenance": [],
      "authorship_tag": "ABX9TyMh/oMuae3V+FB0O4t3iUhk",
      "include_colab_link": true
    },
    "kernelspec": {
      "name": "python3",
      "display_name": "Python 3"
    },
    "language_info": {
      "name": "python"
    },
    "accelerator": "GPU",
    "gpuClass": "standard"
  },
  "cells": [
    {
      "cell_type": "markdown",
      "metadata": {
        "id": "view-in-github",
        "colab_type": "text"
      },
      "source": [
        "<a href=\"https://colab.research.google.com/github/NikosKats/ColabFiles/blob/CIFAR10-CNN.ipynb/CIFAR10_CNN.ipynb\" target=\"_parent\"><img src=\"https://colab.research.google.com/assets/colab-badge.svg\" alt=\"Open In Colab\"/></a>"
      ]
    },
    {
      "cell_type": "markdown",
      "source": [
        "The code below is an example of training a convolutional neural network (CNN) on the CIFAR-10 dataset using PyTorch. The CIFAR-10 dataset is loaded and preprocessed using the torchvision library, and the model is defined as a custom class which inherits from PyTorch's nn.Module. The model consists of 2 convolutional layers, a max pooling layer, and a fully connected layer. The code then defines a loss function (CrossEntropyLoss) and an optimizer (Adam), and trains the model for a specified number of epochs. Finally, the code tests the model's performance on the test dataset by computing the accuracy of the model's predictions. The output of this model shows an accuracy of 71.3% on the test dataset."
      ],
      "metadata": {
        "id": "ZiuCJ_mzY7JF"
      }
    },
    {
      "cell_type": "markdown",
      "source": [
        "We will first train the model in the original CIFAR-10 dataset without making any changes to the dataset. Below the code is implemented and explained step by step through the process."
      ],
      "metadata": {
        "id": "DD3Hsq6f9urd"
      }
    },
    {
      "cell_type": "markdown",
      "source": [
        "First, you will need to import the necessary libraries and set some parameters for the training process:\n"
      ],
      "metadata": {
        "id": "15x1ynXE3T_o"
      }
    },
    {
      "cell_type": "code",
      "execution_count": null,
      "metadata": {
        "id": "Qq4fe89b1kBH"
      },
      "outputs": [],
      "source": [
        "import torch\n",
        "import torchvision\n",
        "import torchvision.transforms as transforms\n",
        "import matplotlib.pyplot as plt\n",
        "\n",
        "batch_size = 128\n",
        "num_epochs = 10\n",
        "learning_rate = 0.001\n",
        "train_acc = []\n",
        "test_acc = []\n",
        "\n"
      ]
    },
    {
      "cell_type": "markdown",
      "source": [
        "Next, you will need to load the CIFAR-10 dataset and apply any necessary preprocessing:\n",
        "\n"
      ],
      "metadata": {
        "id": "5rNoJqnC3X1C"
      }
    },
    {
      "cell_type": "code",
      "source": [
        "# Load the CIFAR-10 dataset\n",
        "train_dataset = torchvision.datasets.CIFAR10(root='path/to/data', train=True,\n",
        "                                        download=True, transform=transforms.ToTensor())\n",
        "test_dataset = torchvision.datasets.CIFAR10(root='path/to/data', train=False,\n",
        "                                       download=True, transform=transforms.ToTensor())\n",
        "\n",
        "# Create data loaders\n",
        "train_loader = torch.utils.data.DataLoader(train_dataset, batch_size=batch_size,\n",
        "                                          shuffle=True)\n",
        "test_loader = torch.utils.data.DataLoader(test_dataset, batch_size=batch_size,\n",
        "                                         shuffle=False)\n"
      ],
      "metadata": {
        "colab": {
          "base_uri": "https://localhost:8080/"
        },
        "id": "DUtReP3t1sgz",
        "outputId": "71700ac8-bffc-4395-8122-2d5b15e67614"
      },
      "execution_count": null,
      "outputs": [
        {
          "output_type": "stream",
          "name": "stdout",
          "text": [
            "Files already downloaded and verified\n",
            "Files already downloaded and verified\n"
          ]
        }
      ]
    },
    {
      "cell_type": "markdown",
      "source": [
        "Then you will need to define your model, in this case a convolutional neural network:"
      ],
      "metadata": {
        "id": "Jv4CP9pD3lTd"
      }
    },
    {
      "cell_type": "markdown",
      "source": [
        "This is a simple convolutional neural network (CNN) model for the CIFAR-10 dataset. The model is defined in the CIFAR10Model class, which inherits the properties and methods of the nn.Module class from the PyTorch library's torch.nn module.\n",
        "\n",
        "The __init__ method of the CIFAR10Model class defines the architecture of the model. The model has 3 layers:\n",
        "\n",
        "The first layer is a 2D convolutional layer (nn.Conv2d) with 3 input channels, 64 output channels, a kernel size of 3, a stride of 1, and padding of 1. This layer is assigned to the conv1 attribute of the class.\n",
        "The second layer is a 2D max pooling layer (nn.MaxPool2d) with a kernel size of 2 and a stride of 2. This layer is assigned to the pool attribute of the class.\n",
        "The third layer is a 2D convolutional layer (nn.Conv2d) with 64 input channels, 128 output channels, a kernel size of 3, a stride of 1, and padding of 1. This layer is assigned to the conv2 attribute of the class.\n",
        "The fourth layer is a fully connected linear layer (nn.Linear) with 12888 input units and 10 output units. This layer is assigned to the fc1 attribute of the class.\n",
        "The forward method defines the forward pass of the model. It takes an input tensor x and applies the layers in the following order:\n",
        "\n",
        "The conv1 layer with ReLU activation function.\n",
        "The pool layer.\n",
        "The conv2 layer with ReLU activation function.\n",
        "The x tensor is reshaped to have 12888 input units.\n",
        "The fc1 layer\n",
        "The final output of the forward pass is returned.\n",
        "An instance of the model can be created by calling the class with model = CIFAR10Model()"
      ],
      "metadata": {
        "id": "WMZ7XpUl-RFf"
      }
    },
    {
      "cell_type": "code",
      "source": [
        "import torch.nn as nn\n",
        "\n",
        "# Define the model\n",
        "class CIFAR10Model(nn.Module):\n",
        "    def __init__(self):\n",
        "        super(CIFAR10Model, self).__init__()\n",
        "        self.conv1 = nn.Conv2d(3, 64, kernel_size=3, stride=1, padding=1)\n",
        "        self.pool = nn.MaxPool2d(2, 2)\n",
        "        self.conv2 = nn.Conv2d(64, 128, kernel_size=3, stride=1, padding=1)\n",
        "        self.fc1 = nn.Linear(128 * 8 * 8, 10)\n",
        "\n",
        "    def forward(self, x):\n",
        "        x = self.pool(nn.functional.relu(self.conv1(x)))\n",
        "        x = self.pool(nn.functional.relu(self.conv2(x)))\n",
        "        x = x.view(-1, 128 * 8 * 8)\n",
        "        x = self.fc1(x)\n",
        "        return x\n",
        "\n",
        "# Create an instance of the model\n",
        "model = CIFAR10Model()\n"
      ],
      "metadata": {
        "id": "R8Xm8uWr2QDI"
      },
      "execution_count": null,
      "outputs": []
    },
    {
      "cell_type": "markdown",
      "source": [
        "After creating an instance of the model, it can be trained and fine-tuned using a dataset, such as the CIFAR-10 dataset. This can be done by defining a loss function, optimizer, and using the built-in PyTorch functions for training and evaluation.\n",
        "\n",
        "It's worth noting that this model is quite simple and may not achieve state-of-the-art results on the CIFAR-10 dataset. However, it can serve as a starting point for building more complex models or experimenting with different architectures. Additionally, this model could be used as a pre-trained model, which could be fine-tuned on a different dataset.\n",
        "\n",
        "Also, this network architecture is not very deep and it does not have any batch normalization or dropout layer which are commonly used in deep learning to improve the model's performance and reduce overfitting.\n",
        "\n",
        "This is a simple CNN model for the CIFAR-10 dataset, composed of three layers: two convolutional layers and one fully connected layer. It has a simple architecture and can serve as a starting point for building more complex models."
      ],
      "metadata": {
        "id": "lO_mfGFP-mEn"
      }
    },
    {
      "cell_type": "markdown",
      "source": [
        "Then you will need to define a loss function and an optimizer:"
      ],
      "metadata": {
        "id": "LFH9UC_h3nia"
      }
    },
    {
      "cell_type": "code",
      "source": [
        "# Define a loss function and optimizer\n",
        "criterion = nn.CrossEntropyLoss()\n",
        "optimizer = torch.optim.Adam(model.parameters(), lr=learning_rate)\n"
      ],
      "metadata": {
        "id": "Itus3Xhx2cZC"
      },
      "execution_count": null,
      "outputs": []
    },
    {
      "cell_type": "markdown",
      "source": [
        "Now you can train your model:"
      ],
      "metadata": {
        "id": "DFpYhXQ23pZs"
      }
    },
    {
      "cell_type": "code",
      "source": [
        "for epoch in range(num_epochs):\n",
        "    for i, (images, labels) in enumerate(train_loader):\n",
        "        # Forward pass\n",
        "        outputs = model(images)\n",
        "        loss = criterion(outputs, labels)\n",
        "        # Backward and optimize\n",
        "        optimizer.zero_grad()\n",
        "        loss.backward()\n",
        "        optimizer.step()\n",
        "\n",
        "    # Compute accuracy on train dataset\n",
        "    with torch.no_grad():\n",
        "        correct = 0\n",
        "        total = 0\n",
        "        for images, labels in train_loader:\n",
        "            outputs = model(images)\n",
        "            _, predicted = torch.max(outputs.data, 1)\n",
        "            total += labels.size(0)\n",
        "            correct += (predicted == labels).sum().item()\n",
        "        train_acc.append(100 * correct / total)\n",
        "\n",
        "    # Compute accuracy on test dataset\n",
        "    with torch.no_grad():\n",
        "        correct = 0\n",
        "        total = 0\n",
        "        for images, labels in test_loader:\n",
        "            outputs = model(images)\n",
        "            _, predicted = torch.max(outputs.data, 1)\n",
        "            total += labels.size(0)\n",
        "            correct += (predicted == labels).sum().item()\n",
        "        test_acc.append(100 * correct / total)\n",
        "    \n",
        "    # Print the current loss\n",
        "    print(f'Epoch [{epoch+1}/{num_epochs}], Loss: {loss.item():.4f}, Train Accuracy: {train_acc[-1]:.2f}%, Test Accuracy: {test_acc[-1]:.2f}%')\n",
        "\n",
        "\n",
        "# Plot the train and test accuracy over time\n",
        "plt.plot(train_acc, label='Train accuracy')\n",
        "plt.plot(test_acc, label='Test accuracy')\n",
        "plt.xlabel('Epoch')\n",
        "plt.ylabel('Accuracy')\n",
        "plt.legend()\n",
        "plt.show()\n",
        "\n",
        "\n",
        "\n",
        "\n"
      ],
      "metadata": {
        "colab": {
          "base_uri": "https://localhost:8080/",
          "height": 458
        },
        "id": "FH3znsJ_2ebI",
        "outputId": "77ac4c3c-ca9a-47d5-8c04-c280fb0f25d8"
      },
      "execution_count": null,
      "outputs": [
        {
          "output_type": "stream",
          "name": "stdout",
          "text": [
            "Epoch [1/10], Loss: 0.6823, Train Accuracy: 79.84%, Test Accuracy: 71.35%\n",
            "Epoch [2/10], Loss: 0.6084, Train Accuracy: 81.96%, Test Accuracy: 71.97%\n",
            "Epoch [3/10], Loss: 0.5719, Train Accuracy: 81.91%, Test Accuracy: 71.54%\n",
            "Epoch [4/10], Loss: 0.4918, Train Accuracy: 83.79%, Test Accuracy: 71.88%\n",
            "Epoch [5/10], Loss: 0.5096, Train Accuracy: 84.46%, Test Accuracy: 72.01%\n",
            "Epoch [6/10], Loss: 0.4685, Train Accuracy: 84.62%, Test Accuracy: 71.59%\n",
            "Epoch [7/10], Loss: 0.5421, Train Accuracy: 85.26%, Test Accuracy: 71.98%\n",
            "Epoch [8/10], Loss: 0.4170, Train Accuracy: 86.27%, Test Accuracy: 71.69%\n",
            "Epoch [9/10], Loss: 0.4214, Train Accuracy: 86.03%, Test Accuracy: 70.83%\n",
            "Epoch [10/10], Loss: 0.5398, Train Accuracy: 87.25%, Test Accuracy: 71.73%\n"
          ]
        },
        {
          "output_type": "display_data",
          "data": {
            "text/plain": [
              "<Figure size 432x288 with 1 Axes>"
            ],
            "image/png": "[encoded data removed]"
          },
          "metadata": {
            "needs_background": "light"
          }
        }
      ]
    },
    {
      "cell_type": "markdown",
      "source": [
        "The difference between the train accuracy and test accuracy suggest that the model is overfitting on the train dataset. This indicates that the model is more accurate on the data it has seen during the training process, but not as accurate on new unseen data. To further improve the performance, we can try to use regularization techniques like dropout, weight decay or early stopping."
      ],
      "metadata": {
        "id": "LWuo_q7Z8b-u"
      }
    },
    {
      "cell_type": "code",
      "source": [],
      "metadata": {
        "id": "7pX0lVOy8bu8"
      },
      "execution_count": null,
      "outputs": []
    }
  ]
}